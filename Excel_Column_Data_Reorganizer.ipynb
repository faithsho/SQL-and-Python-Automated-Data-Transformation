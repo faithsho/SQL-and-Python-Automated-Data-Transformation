{
 "cells": [
  {
   "cell_type": "code",
   "execution_count": null,
   "id": "b9f3edd5-c46b-4c7b-8bd2-48134502d0f0",
   "metadata": {},
   "outputs": [],
   "source": [
    "import openpyxl\n",
    "\n",
    "# Load the workbook and select the active sheet\n",
    "wb = openpyxl.load_workbook('unsorted_file.xlsx')  # Load the Excel file\n",
    "sheet = wb.active  # Select the active worksheet in the workbook\n",
    "\n",
    "# Define the range of rows to copy data from\n",
    "start_row = 1  # The first row to copy data from\n",
    "end_row = 27  # The last row to copy data from\n",
    "\n",
    "# Define column indexes for copying data\n",
    "start_col = 3  # 'C' corresponds to the 3rd column (starting column for copying)\n",
    "end_col = 2  # 'B' corresponds to the 2nd column (used for pasting data)\n",
    "last_row_in_A_B = sheet.max_row  # Find the last row with data in columns A and B\n",
    "\n",
    "# Iterate through the columns starting from 'C' in pairs and copy data\n",
    "for col in range(start_col, 431, 2):  # Loop through columns from 'C' (3) to 'EV' (431) in steps of 2\n",
    "    # Extract data from two adjacent columns (e.g., 'C,D', 'E,F', ..., 'EV,EW')\n",
    "    col1_data = [sheet.cell(row=row, column=col).value for row in range(start_row, end_row + 1)]\n",
    "    col2_data = [sheet.cell(row=row, column=col + 1).value for row in range(start_row, end_row + 1)]\n",
    "    \n",
    "    # Paste the data under columns A and B, starting from the next empty row\n",
    "    for i in range(len(col1_data)):\n",
    "        # Write data from column 'col' into column A\n",
    "        sheet.cell(row=last_row_in_A_B + 1, column=1, value=col1_data[i])  # Column A\n",
    "        # Write data from column 'col+1' into column B\n",
    "        sheet.cell(row=last_row_in_A_B + 1, column=2, value=col2_data[i])  # Column B\n",
    "        last_row_in_A_B += 1  # Move to the next row in columns A and B\n",
    "\n",
    "# Save the modified workbook with a new name\n",
    "wb.save('modified_file.xlsx')  # Save the updated workbook to a new file\n"
   ]
  }
 ],
 "metadata": {
  "kernelspec": {
   "display_name": "Python [conda env:base] *",
   "language": "python",
   "name": "conda-base-py"
  },
  "language_info": {
   "codemirror_mode": {
    "name": "ipython",
    "version": 3
   },
   "file_extension": ".py",
   "mimetype": "text/x-python",
   "name": "python",
   "nbconvert_exporter": "python",
   "pygments_lexer": "ipython3",
   "version": "3.12.7"
  }
 },
 "nbformat": 4,
 "nbformat_minor": 5
}
